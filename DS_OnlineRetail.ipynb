{
 "cells": [
  {
   "cell_type": "markdown",
   "metadata": {},
   "source": [
    "# Product Recommendation of an Online Sales\n",
    "\n",
    "This time I have taken another database from Kaggle which contains the online sales record of a company in 2009. Based on the purchase record of each customer, I want to use their purchase pattern to develop a recommendation system. \n",
    "\n",
    "This Jupyter Notebook contains the following part:\n",
    "1. Basic extraction of statistical features \n",
    "2. Develop the customer purchase matrix\n",
    "3. Application of customer purchase matrix for prediction\n",
    "\n",
    "Data taken from \n",
    "https://www.kaggle.com/mathchi/online-retail-ii-data-set-from-ml-repository\n",
    "\n",
    "Prepared by Shing Chi Leung at 26 May 2021\n",
    "\n",
    "## Basic extraction of statistical features \n",
    "\n",
    "I will first read the file and extract the principle features about the data. "
   ]
  },
  {
   "cell_type": "code",
   "execution_count": 1,
   "metadata": {},
   "outputs": [],
   "source": [
    "import pandas as pd"
   ]
  },
  {
   "cell_type": "code",
   "execution_count": 2,
   "metadata": {},
   "outputs": [],
   "source": [
    "df = pd.read_excel(\"Kaggle_Retail.xlsx\")"
   ]
  },
  {
   "cell_type": "code",
   "execution_count": 3,
   "metadata": {},
   "outputs": [
    {
     "data": {
      "text/plain": [
       "Invoice                object\n",
       "StockCode              object\n",
       "Description            object\n",
       "Quantity                int64\n",
       "InvoiceDate    datetime64[ns]\n",
       "Price                 float64\n",
       "Customer ID           float64\n",
       "Country                object\n",
       "dtype: object"
      ]
     },
     "execution_count": 3,
     "metadata": {},
     "output_type": "execute_result"
    }
   ],
   "source": [
    "df.dtypes"
   ]
  },
  {
   "cell_type": "markdown",
   "metadata": {},
   "source": [
    "The data is well cleaned that require no further data cleaning. \n",
    "\n",
    "Let us take a look at the basic structure of the database."
   ]
  },
  {
   "cell_type": "code",
   "execution_count": 4,
   "metadata": {},
   "outputs": [
    {
     "data": {
      "text/plain": [
       "(525461, 8)"
      ]
     },
     "execution_count": 4,
     "metadata": {},
     "output_type": "execute_result"
    }
   ],
   "source": [
    "df.shape"
   ]
  },
  {
   "cell_type": "code",
   "execution_count": 5,
   "metadata": {},
   "outputs": [
    {
     "data": {
      "text/html": [
       "<div>\n",
       "<style scoped>\n",
       "    .dataframe tbody tr th:only-of-type {\n",
       "        vertical-align: middle;\n",
       "    }\n",
       "\n",
       "    .dataframe tbody tr th {\n",
       "        vertical-align: top;\n",
       "    }\n",
       "\n",
       "    .dataframe thead th {\n",
       "        text-align: right;\n",
       "    }\n",
       "</style>\n",
       "<table border=\"1\" class=\"dataframe\">\n",
       "  <thead>\n",
       "    <tr style=\"text-align: right;\">\n",
       "      <th></th>\n",
       "      <th>Invoice</th>\n",
       "      <th>StockCode</th>\n",
       "      <th>Description</th>\n",
       "      <th>Quantity</th>\n",
       "      <th>InvoiceDate</th>\n",
       "      <th>Price</th>\n",
       "      <th>Customer ID</th>\n",
       "      <th>Country</th>\n",
       "    </tr>\n",
       "  </thead>\n",
       "  <tbody>\n",
       "    <tr>\n",
       "      <th>0</th>\n",
       "      <td>489434</td>\n",
       "      <td>85048</td>\n",
       "      <td>15CM CHRISTMAS GLASS BALL 20 LIGHTS</td>\n",
       "      <td>12</td>\n",
       "      <td>2009-12-01 07:45:00</td>\n",
       "      <td>6.95</td>\n",
       "      <td>13085.0</td>\n",
       "      <td>United Kingdom</td>\n",
       "    </tr>\n",
       "    <tr>\n",
       "      <th>1</th>\n",
       "      <td>489434</td>\n",
       "      <td>79323P</td>\n",
       "      <td>PINK CHERRY LIGHTS</td>\n",
       "      <td>12</td>\n",
       "      <td>2009-12-01 07:45:00</td>\n",
       "      <td>6.75</td>\n",
       "      <td>13085.0</td>\n",
       "      <td>United Kingdom</td>\n",
       "    </tr>\n",
       "    <tr>\n",
       "      <th>2</th>\n",
       "      <td>489434</td>\n",
       "      <td>79323W</td>\n",
       "      <td>WHITE CHERRY LIGHTS</td>\n",
       "      <td>12</td>\n",
       "      <td>2009-12-01 07:45:00</td>\n",
       "      <td>6.75</td>\n",
       "      <td>13085.0</td>\n",
       "      <td>United Kingdom</td>\n",
       "    </tr>\n",
       "    <tr>\n",
       "      <th>3</th>\n",
       "      <td>489434</td>\n",
       "      <td>22041</td>\n",
       "      <td>RECORD FRAME 7\" SINGLE SIZE</td>\n",
       "      <td>48</td>\n",
       "      <td>2009-12-01 07:45:00</td>\n",
       "      <td>2.10</td>\n",
       "      <td>13085.0</td>\n",
       "      <td>United Kingdom</td>\n",
       "    </tr>\n",
       "    <tr>\n",
       "      <th>4</th>\n",
       "      <td>489434</td>\n",
       "      <td>21232</td>\n",
       "      <td>STRAWBERRY CERAMIC TRINKET BOX</td>\n",
       "      <td>24</td>\n",
       "      <td>2009-12-01 07:45:00</td>\n",
       "      <td>1.25</td>\n",
       "      <td>13085.0</td>\n",
       "      <td>United Kingdom</td>\n",
       "    </tr>\n",
       "  </tbody>\n",
       "</table>\n",
       "</div>"
      ],
      "text/plain": [
       "  Invoice StockCode                          Description  Quantity  \\\n",
       "0  489434     85048  15CM CHRISTMAS GLASS BALL 20 LIGHTS        12   \n",
       "1  489434    79323P                   PINK CHERRY LIGHTS        12   \n",
       "2  489434    79323W                  WHITE CHERRY LIGHTS        12   \n",
       "3  489434     22041         RECORD FRAME 7\" SINGLE SIZE         48   \n",
       "4  489434     21232       STRAWBERRY CERAMIC TRINKET BOX        24   \n",
       "\n",
       "          InvoiceDate  Price  Customer ID         Country  \n",
       "0 2009-12-01 07:45:00   6.95      13085.0  United Kingdom  \n",
       "1 2009-12-01 07:45:00   6.75      13085.0  United Kingdom  \n",
       "2 2009-12-01 07:45:00   6.75      13085.0  United Kingdom  \n",
       "3 2009-12-01 07:45:00   2.10      13085.0  United Kingdom  \n",
       "4 2009-12-01 07:45:00   1.25      13085.0  United Kingdom  "
      ]
     },
     "execution_count": 5,
     "metadata": {},
     "output_type": "execute_result"
    }
   ],
   "source": [
    "df.head(5)"
   ]
  },
  {
   "cell_type": "markdown",
   "metadata": {},
   "source": [
    "The datafile is large, so I will find some ways to decrease the database size. First I will remove the rows where there are empty components. This applies to in particular to the \"Customer ID\" column as we need the customer ID to build the buying pattern. "
   ]
  },
  {
   "cell_type": "code",
   "execution_count": 6,
   "metadata": {},
   "outputs": [
    {
     "data": {
      "text/plain": [
       "(417534, 8)"
      ]
     },
     "execution_count": 6,
     "metadata": {},
     "output_type": "execute_result"
    }
   ],
   "source": [
    "df.dropna(inplace=True)\n",
    "df.shape"
   ]
  },
  {
   "cell_type": "code",
   "execution_count": 7,
   "metadata": {},
   "outputs": [
    {
     "data": {
      "text/html": [
       "<div>\n",
       "<style scoped>\n",
       "    .dataframe tbody tr th:only-of-type {\n",
       "        vertical-align: middle;\n",
       "    }\n",
       "\n",
       "    .dataframe tbody tr th {\n",
       "        vertical-align: top;\n",
       "    }\n",
       "\n",
       "    .dataframe thead th {\n",
       "        text-align: right;\n",
       "    }\n",
       "</style>\n",
       "<table border=\"1\" class=\"dataframe\">\n",
       "  <thead>\n",
       "    <tr style=\"text-align: right;\">\n",
       "      <th></th>\n",
       "      <th>Invoice</th>\n",
       "      <th>StockCode</th>\n",
       "      <th>Description</th>\n",
       "      <th>Quantity</th>\n",
       "      <th>InvoiceDate</th>\n",
       "      <th>Price</th>\n",
       "      <th>Customer ID</th>\n",
       "      <th>Country</th>\n",
       "      <th>Cost</th>\n",
       "    </tr>\n",
       "  </thead>\n",
       "  <tbody>\n",
       "    <tr>\n",
       "      <th>0</th>\n",
       "      <td>489434</td>\n",
       "      <td>85048</td>\n",
       "      <td>15CM CHRISTMAS GLASS BALL 20 LIGHTS</td>\n",
       "      <td>12</td>\n",
       "      <td>2009-12-01 07:45:00</td>\n",
       "      <td>6.95</td>\n",
       "      <td>13085.0</td>\n",
       "      <td>United Kingdom</td>\n",
       "      <td>83.4</td>\n",
       "    </tr>\n",
       "    <tr>\n",
       "      <th>1</th>\n",
       "      <td>489434</td>\n",
       "      <td>79323P</td>\n",
       "      <td>PINK CHERRY LIGHTS</td>\n",
       "      <td>12</td>\n",
       "      <td>2009-12-01 07:45:00</td>\n",
       "      <td>6.75</td>\n",
       "      <td>13085.0</td>\n",
       "      <td>United Kingdom</td>\n",
       "      <td>81.0</td>\n",
       "    </tr>\n",
       "    <tr>\n",
       "      <th>2</th>\n",
       "      <td>489434</td>\n",
       "      <td>79323W</td>\n",
       "      <td>WHITE CHERRY LIGHTS</td>\n",
       "      <td>12</td>\n",
       "      <td>2009-12-01 07:45:00</td>\n",
       "      <td>6.75</td>\n",
       "      <td>13085.0</td>\n",
       "      <td>United Kingdom</td>\n",
       "      <td>81.0</td>\n",
       "    </tr>\n",
       "    <tr>\n",
       "      <th>3</th>\n",
       "      <td>489434</td>\n",
       "      <td>22041</td>\n",
       "      <td>RECORD FRAME 7\" SINGLE SIZE</td>\n",
       "      <td>48</td>\n",
       "      <td>2009-12-01 07:45:00</td>\n",
       "      <td>2.10</td>\n",
       "      <td>13085.0</td>\n",
       "      <td>United Kingdom</td>\n",
       "      <td>100.8</td>\n",
       "    </tr>\n",
       "    <tr>\n",
       "      <th>4</th>\n",
       "      <td>489434</td>\n",
       "      <td>21232</td>\n",
       "      <td>STRAWBERRY CERAMIC TRINKET BOX</td>\n",
       "      <td>24</td>\n",
       "      <td>2009-12-01 07:45:00</td>\n",
       "      <td>1.25</td>\n",
       "      <td>13085.0</td>\n",
       "      <td>United Kingdom</td>\n",
       "      <td>30.0</td>\n",
       "    </tr>\n",
       "  </tbody>\n",
       "</table>\n",
       "</div>"
      ],
      "text/plain": [
       "  Invoice StockCode                          Description  Quantity  \\\n",
       "0  489434     85048  15CM CHRISTMAS GLASS BALL 20 LIGHTS        12   \n",
       "1  489434    79323P                   PINK CHERRY LIGHTS        12   \n",
       "2  489434    79323W                  WHITE CHERRY LIGHTS        12   \n",
       "3  489434     22041         RECORD FRAME 7\" SINGLE SIZE         48   \n",
       "4  489434     21232       STRAWBERRY CERAMIC TRINKET BOX        24   \n",
       "\n",
       "          InvoiceDate  Price  Customer ID         Country   Cost  \n",
       "0 2009-12-01 07:45:00   6.95      13085.0  United Kingdom   83.4  \n",
       "1 2009-12-01 07:45:00   6.75      13085.0  United Kingdom   81.0  \n",
       "2 2009-12-01 07:45:00   6.75      13085.0  United Kingdom   81.0  \n",
       "3 2009-12-01 07:45:00   2.10      13085.0  United Kingdom  100.8  \n",
       "4 2009-12-01 07:45:00   1.25      13085.0  United Kingdom   30.0  "
      ]
     },
     "execution_count": 7,
     "metadata": {},
     "output_type": "execute_result"
    }
   ],
   "source": [
    "df[\"Cost\"] = df[\"Quantity\"] * df[\"Price\"]\n",
    "df.head(5)"
   ]
  },
  {
   "cell_type": "markdown",
   "metadata": {},
   "source": [
    "Then I will group the dataframe by the customer ID, so that each sub-group contains the purchase record of one customer, and then I calculate who buy the most. "
   ]
  },
  {
   "cell_type": "code",
   "execution_count": 16,
   "metadata": {},
   "outputs": [
    {
     "data": {
      "text/plain": [
       "Customer ID\n",
       "17399.0   -25111.09\n",
       "12918.0   -10953.50\n",
       "15849.0    -5876.34\n",
       "15760.0    -5795.87\n",
       "16981.0    -4620.86\n",
       "Name: Cost, dtype: float64"
      ]
     },
     "execution_count": 16,
     "metadata": {},
     "output_type": "execute_result"
    }
   ],
   "source": [
    "df_customer = df.groupby(\"Customer ID\")[\"Cost\"].agg(sum).sort_values(ascending=True)\n",
    "df_customer.head(5)"
   ]
  },
  {
   "cell_type": "code",
   "execution_count": 15,
   "metadata": {},
   "outputs": [
    {
     "data": {
      "text/plain": [
       "count      4383.000000\n",
       "mean       1904.679118\n",
       "std        8519.369281\n",
       "min      -25111.090000\n",
       "25%         285.260000\n",
       "50%         655.940000\n",
       "75%        1645.690000\n",
       "max      341776.730000\n",
       "Name: Cost, dtype: float64"
      ]
     },
     "execution_count": 15,
     "metadata": {},
     "output_type": "execute_result"
    }
   ],
   "source": [
    "df_customer.describe()"
   ]
  },
  {
   "cell_type": "markdown",
   "metadata": {},
   "source": [
    "I notice that there are negative number as the refund is also counted as one transaction. In that case, I will only consider customers who really \"buy\" things from this online shop, i.e. having a positive expense. "
   ]
  },
  {
   "cell_type": "code",
   "execution_count": 19,
   "metadata": {},
   "outputs": [
    {
     "data": {
      "text/plain": [
       "(4281,)"
      ]
     },
     "execution_count": 19,
     "metadata": {},
     "output_type": "execute_result"
    }
   ],
   "source": [
    "df_customer = df_customer[df_customer > 0]\n",
    "df_customer.shape"
   ]
  },
  {
   "cell_type": "markdown",
   "metadata": {},
   "source": [
    "Now the dataframe is sufficiently reduced. We will use this as the principle database. First let us look at how much each customer spent in 2009. "
   ]
  },
  {
   "cell_type": "code",
   "execution_count": 33,
   "metadata": {},
   "outputs": [
    {
     "data": {
      "text/plain": [
       "<AxesSubplot:title={'center':'Histogram of customer total expense'}, ylabel='Frequency'>"
      ]
     },
     "execution_count": 33,
     "metadata": {},
     "output_type": "execute_result"
    },
    {
     "data": {
      "image/png": "[encoded data removed]",
      "text/plain": [
       "<Figure size 432x288 with 1 Axes>"
      ]
     },
     "metadata": {
      "needs_background": "light"
     },
     "output_type": "display_data"
    }
   ],
   "source": [
    "df_customer.plot.hist(bins=30,logy=True, title=\"Histogram of customer total expense\")"
   ]
  },
  {
   "cell_type": "markdown",
   "metadata": {},
   "source": [
    "It suffices to observe that the frequency decreases exponential against the total budget. Basically most customers only buy below 10000 dollars. In the following part, I will further pick customers who spend more than 5000 dollars. This ensures that the customers have bought a number of products so that there is a higher chance for having a recognizable pattern. There are other ways for visualizing the data, including. \n",
    "\n",
    "1. Distribution of purchase in different countries\n",
    "2. Clustering of purchase in the basis of time\n",
    "3. Buying frequency vs. buying order size\n",
    "and so on. \n",
    "\n",
    "However, this notebook is not about the data analysis so I will skip this part. \n",
    "For convenience, I defined the customers who spent more than 5000 dollars as high customer below. "
   ]
  },
  {
   "cell_type": "code",
   "execution_count": 36,
   "metadata": {},
   "outputs": [
    {
     "data": {
      "text/plain": [
       "Float64Index([13869.0, 15125.0, 13069.0, 17146.0, 14769.0], dtype='float64', name='Customer ID')"
      ]
     },
     "execution_count": 36,
     "metadata": {},
     "output_type": "execute_result"
    }
   ],
   "source": [
    "df_high_customer = df_customer[df_customer>5000].index\n",
    "df_high_customer[:5]"
   ]
  },
  {
   "cell_type": "code",
   "execution_count": 37,
   "metadata": {},
   "outputs": [
    {
     "data": {
      "text/plain": [
       "(126658, 9)"
      ]
     },
     "execution_count": 37,
     "metadata": {},
     "output_type": "execute_result"
    }
   ],
   "source": [
    "df = df[df[\"Customer ID\"].isin(df_high_customer)]\n",
    "df.shape"
   ]
  },
  {
   "cell_type": "markdown",
   "metadata": {},
   "source": [
    "The final dataframe is almost 1/5 of the original one. In the refined one, customers with significant purchase records, and with a complete details of transaction are remained for analysis. Now we can build a pivot table to record, which customers have bought which kind of items. \n",
    "\n",
    "## Develop the customer purchase matrix\n",
    "\n",
    "I will set up a pivot table so that for each product item, I will know who has bought the item and the amount. "
   ]
  },
  {
   "cell_type": "code",
   "execution_count": 43,
   "metadata": {},
   "outputs": [
    {
     "data": {
      "text/plain": [
       "(3693, 265)"
      ]
     },
     "execution_count": 43,
     "metadata": {},
     "output_type": "execute_result"
    }
   ],
   "source": [
    "pivot_table = pd.pivot_table(data=df, values=\"Quantity\", columns=\"Customer ID\", index=\"StockCode\")\n",
    "pivot_table.fillna(0, inplace=True)\n",
    "pivot_table.shape"
   ]
  },
  {
   "cell_type": "code",
   "execution_count": 44,
   "metadata": {},
   "outputs": [
    {
     "data": {
      "text/html": [
       "<div>\n",
       "<style scoped>\n",
       "    .dataframe tbody tr th:only-of-type {\n",
       "        vertical-align: middle;\n",
       "    }\n",
       "\n",
       "    .dataframe tbody tr th {\n",
       "        vertical-align: top;\n",
       "    }\n",
       "\n",
       "    .dataframe thead th {\n",
       "        text-align: right;\n",
       "    }\n",
       "</style>\n",
       "<table border=\"1\" class=\"dataframe\">\n",
       "  <thead>\n",
       "    <tr style=\"text-align: right;\">\n",
       "      <th>Customer ID</th>\n",
       "      <th>12357.0</th>\n",
       "      <th>12380.0</th>\n",
       "      <th>12409.0</th>\n",
       "      <th>12415.0</th>\n",
       "      <th>12433.0</th>\n",
       "      <th>12435.0</th>\n",
       "      <th>12437.0</th>\n",
       "      <th>12471.0</th>\n",
       "      <th>12472.0</th>\n",
       "      <th>12476.0</th>\n",
       "      <th>...</th>\n",
       "      <th>18052.0</th>\n",
       "      <th>18087.0</th>\n",
       "      <th>18092.0</th>\n",
       "      <th>18102.0</th>\n",
       "      <th>18172.0</th>\n",
       "      <th>18223.0</th>\n",
       "      <th>18225.0</th>\n",
       "      <th>18226.0</th>\n",
       "      <th>18251.0</th>\n",
       "      <th>18260.0</th>\n",
       "    </tr>\n",
       "    <tr>\n",
       "      <th>StockCode</th>\n",
       "      <th></th>\n",
       "      <th></th>\n",
       "      <th></th>\n",
       "      <th></th>\n",
       "      <th></th>\n",
       "      <th></th>\n",
       "      <th></th>\n",
       "      <th></th>\n",
       "      <th></th>\n",
       "      <th></th>\n",
       "      <th></th>\n",
       "      <th></th>\n",
       "      <th></th>\n",
       "      <th></th>\n",
       "      <th></th>\n",
       "      <th></th>\n",
       "      <th></th>\n",
       "      <th></th>\n",
       "      <th></th>\n",
       "      <th></th>\n",
       "      <th></th>\n",
       "    </tr>\n",
       "  </thead>\n",
       "  <tbody>\n",
       "    <tr>\n",
       "      <th>10002</th>\n",
       "      <td>12.0</td>\n",
       "      <td>0.0</td>\n",
       "      <td>96.0</td>\n",
       "      <td>0.0</td>\n",
       "      <td>0.0</td>\n",
       "      <td>0.0</td>\n",
       "      <td>0.0</td>\n",
       "      <td>0.0</td>\n",
       "      <td>0.0</td>\n",
       "      <td>24.0</td>\n",
       "      <td>...</td>\n",
       "      <td>0.0</td>\n",
       "      <td>0.0</td>\n",
       "      <td>0.0</td>\n",
       "      <td>0.0</td>\n",
       "      <td>0.0</td>\n",
       "      <td>12.0</td>\n",
       "      <td>0.0</td>\n",
       "      <td>0.0</td>\n",
       "      <td>200.0</td>\n",
       "      <td>0.0</td>\n",
       "    </tr>\n",
       "    <tr>\n",
       "      <th>10080</th>\n",
       "      <td>0.0</td>\n",
       "      <td>0.0</td>\n",
       "      <td>0.0</td>\n",
       "      <td>0.0</td>\n",
       "      <td>0.0</td>\n",
       "      <td>0.0</td>\n",
       "      <td>0.0</td>\n",
       "      <td>0.0</td>\n",
       "      <td>0.0</td>\n",
       "      <td>0.0</td>\n",
       "      <td>...</td>\n",
       "      <td>0.0</td>\n",
       "      <td>0.0</td>\n",
       "      <td>0.0</td>\n",
       "      <td>0.0</td>\n",
       "      <td>0.0</td>\n",
       "      <td>0.0</td>\n",
       "      <td>0.0</td>\n",
       "      <td>0.0</td>\n",
       "      <td>0.0</td>\n",
       "      <td>0.0</td>\n",
       "    </tr>\n",
       "    <tr>\n",
       "      <th>10120</th>\n",
       "      <td>0.0</td>\n",
       "      <td>0.0</td>\n",
       "      <td>0.0</td>\n",
       "      <td>0.0</td>\n",
       "      <td>0.0</td>\n",
       "      <td>0.0</td>\n",
       "      <td>30.0</td>\n",
       "      <td>0.0</td>\n",
       "      <td>0.0</td>\n",
       "      <td>0.0</td>\n",
       "      <td>...</td>\n",
       "      <td>0.0</td>\n",
       "      <td>0.0</td>\n",
       "      <td>0.0</td>\n",
       "      <td>0.0</td>\n",
       "      <td>0.0</td>\n",
       "      <td>0.0</td>\n",
       "      <td>0.0</td>\n",
       "      <td>0.0</td>\n",
       "      <td>0.0</td>\n",
       "      <td>0.0</td>\n",
       "    </tr>\n",
       "    <tr>\n",
       "      <th>10125</th>\n",
       "      <td>0.0</td>\n",
       "      <td>0.0</td>\n",
       "      <td>0.0</td>\n",
       "      <td>0.0</td>\n",
       "      <td>0.0</td>\n",
       "      <td>0.0</td>\n",
       "      <td>0.0</td>\n",
       "      <td>0.0</td>\n",
       "      <td>0.0</td>\n",
       "      <td>0.0</td>\n",
       "      <td>...</td>\n",
       "      <td>0.0</td>\n",
       "      <td>0.0</td>\n",
       "      <td>0.0</td>\n",
       "      <td>0.0</td>\n",
       "      <td>0.0</td>\n",
       "      <td>0.0</td>\n",
       "      <td>0.0</td>\n",
       "      <td>0.0</td>\n",
       "      <td>0.0</td>\n",
       "      <td>0.0</td>\n",
       "    </tr>\n",
       "    <tr>\n",
       "      <th>10133</th>\n",
       "      <td>0.0</td>\n",
       "      <td>0.0</td>\n",
       "      <td>0.0</td>\n",
       "      <td>0.0</td>\n",
       "      <td>0.0</td>\n",
       "      <td>0.0</td>\n",
       "      <td>0.0</td>\n",
       "      <td>0.0</td>\n",
       "      <td>0.0</td>\n",
       "      <td>0.0</td>\n",
       "      <td>...</td>\n",
       "      <td>0.0</td>\n",
       "      <td>0.0</td>\n",
       "      <td>0.0</td>\n",
       "      <td>0.0</td>\n",
       "      <td>0.0</td>\n",
       "      <td>0.0</td>\n",
       "      <td>0.0</td>\n",
       "      <td>0.0</td>\n",
       "      <td>0.0</td>\n",
       "      <td>0.0</td>\n",
       "    </tr>\n",
       "  </tbody>\n",
       "</table>\n",
       "<p>5 rows × 265 columns</p>\n",
       "</div>"
      ],
      "text/plain": [
       "Customer ID  12357.0  12380.0  12409.0  12415.0  12433.0  12435.0  12437.0  \\\n",
       "StockCode                                                                    \n",
       "10002           12.0      0.0     96.0      0.0      0.0      0.0      0.0   \n",
       "10080            0.0      0.0      0.0      0.0      0.0      0.0      0.0   \n",
       "10120            0.0      0.0      0.0      0.0      0.0      0.0     30.0   \n",
       "10125            0.0      0.0      0.0      0.0      0.0      0.0      0.0   \n",
       "10133            0.0      0.0      0.0      0.0      0.0      0.0      0.0   \n",
       "\n",
       "Customer ID  12471.0  12472.0  12476.0  ...  18052.0  18087.0  18092.0  \\\n",
       "StockCode                               ...                              \n",
       "10002            0.0      0.0     24.0  ...      0.0      0.0      0.0   \n",
       "10080            0.0      0.0      0.0  ...      0.0      0.0      0.0   \n",
       "10120            0.0      0.0      0.0  ...      0.0      0.0      0.0   \n",
       "10125            0.0      0.0      0.0  ...      0.0      0.0      0.0   \n",
       "10133            0.0      0.0      0.0  ...      0.0      0.0      0.0   \n",
       "\n",
       "Customer ID  18102.0  18172.0  18223.0  18225.0  18226.0  18251.0  18260.0  \n",
       "StockCode                                                                   \n",
       "10002            0.0      0.0     12.0      0.0      0.0    200.0      0.0  \n",
       "10080            0.0      0.0      0.0      0.0      0.0      0.0      0.0  \n",
       "10120            0.0      0.0      0.0      0.0      0.0      0.0      0.0  \n",
       "10125            0.0      0.0      0.0      0.0      0.0      0.0      0.0  \n",
       "10133            0.0      0.0      0.0      0.0      0.0      0.0      0.0  \n",
       "\n",
       "[5 rows x 265 columns]"
      ]
     },
     "execution_count": 44,
     "metadata": {},
     "output_type": "execute_result"
    }
   ],
   "source": [
    "pivot_table.head(5)"
   ]
  },
  {
   "cell_type": "markdown",
   "metadata": {},
   "source": [
    "This will form the essential high dimensional database (3695x265) where one vector contains the magnitude of each customer based on the past purchase record. But it is a very high dimensional space, so I will lower the dimension by the PCA/Truncated SVD."
   ]
  },
  {
   "cell_type": "code",
   "execution_count": 90,
   "metadata": {},
   "outputs": [],
   "source": [
    "from sklearn.decomposition import PCA\n",
    "from sklearn.decomposition import TruncatedSVD"
   ]
  },
  {
   "cell_type": "code",
   "execution_count": 91,
   "metadata": {},
   "outputs": [
    {
     "data": {
      "text/plain": [
       "array([[ 12.,   0.,  96., ...,   0., 200.,   0.],\n",
       "       [  0.,   0.,   0., ...,   0.,   0.,   0.],\n",
       "       [  0.,   0.,   0., ...,   0.,   0.,   0.],\n",
       "       [  0.,   0.,   0., ...,   0.,   0.,   0.],\n",
       "       [  0.,   0.,   0., ...,   0.,   0.,   0.]])"
      ]
     },
     "execution_count": 91,
     "metadata": {},
     "output_type": "execute_result"
    }
   ],
   "source": [
    "purchase_mat = pivot_table.to_numpy()\n",
    "purchase_mat[:5]"
   ]
  },
  {
   "cell_type": "markdown",
   "metadata": {},
   "source": [
    "I will include both the computation by the PCA decomposition and the truncated SVD decomposition to see how different the two approach predict in their recommendation. "
   ]
  },
  {
   "cell_type": "code",
   "execution_count": 92,
   "metadata": {},
   "outputs": [
    {
     "name": "stdout",
     "output_type": "stream",
     "text": [
      "[0.65673257 0.15183751 0.09306701 0.0139293  0.01273669 0.01058661\n",
      " 0.0065464  0.00585966 0.00487715 0.0041156  0.00403129 0.00293142\n",
      " 0.00281186 0.00279885 0.00180978 0.00169534 0.00154428 0.00134201\n",
      " 0.00127684 0.00107192]\n",
      "[0.65670265 0.15182734 0.09306658 0.01390825 0.01240611 0.01077796\n",
      " 0.00658675 0.00591606 0.0048918  0.00415448 0.00405042 0.00293143\n",
      " 0.00281002 0.00280541 0.0018118  0.00169601 0.00154502 0.00134208\n",
      " 0.00127687 0.00107599]\n"
     ]
    }
   ],
   "source": [
    "# PCA\n",
    "pca = PCA(n_components=20)\n",
    "pca.fit(purchase_mat)\n",
    "print(pca.explained_variance_ratio_)\n",
    "\n",
    "# truncated SVD\n",
    "tsvd = TruncatedSVD(n_components=20)\n",
    "tsvd.fit(purchase_mat)\n",
    "print(tsvd.explained_variance_ratio_)"
   ]
  },
  {
   "cell_type": "markdown",
   "metadata": {},
   "source": [
    "By the number it shows that whether or not the data is centered has very small effect to the decomposition process. In both case, we develop a kernel to lower the 265-dimension vector down to a 20-dimensional one. \n",
    "\n",
    "## Application of customer purchase matrix for prediction\n",
    "\n",
    "Now we will use this decomposition to do the prediction. FIrst we will transform all product into this 20-dimensional vectors using the kernel. "
   ]
  },
  {
   "cell_type": "code",
   "execution_count": 59,
   "metadata": {},
   "outputs": [],
   "source": [
    "good_mat = pca.transform(purchase_mat)"
   ]
  },
  {
   "cell_type": "code",
   "execution_count": 60,
   "metadata": {},
   "outputs": [
    {
     "name": "stdout",
     "output_type": "stream",
     "text": [
      "[[-5.24806245e+01 -2.18120736e+01  2.62594716e+00 -2.01569232e+01\n",
      "   2.60749146e+01  2.07056591e+02 -2.62683891e+01  1.34494812e+02\n",
      "  -6.96891444e+01  6.46754732e+01 -3.30549044e+01 -7.06926109e+00\n",
      "   1.05930866e+01 -2.37819700e+01  2.41002926e+01 -3.96151384e+01\n",
      "  -5.25821673e+00 -8.91307785e-01 -3.04126113e+00 -1.78595688e+01]\n",
      " [-5.34148695e+01 -2.38625657e+01 -1.11782801e+01 -2.12026905e+00\n",
      "  -7.22115716e+00 -2.69010896e+01 -1.39099981e+01 -1.08962646e+01\n",
      "  -6.30506216e+00  9.05628169e+00 -7.31098455e+00  1.16465062e-01\n",
      "  -1.09699726e+00 -3.29185884e+00 -2.51475886e+00  1.37114547e+00\n",
      "   1.48648672e+00 -5.00326516e-01 -5.53932933e-01  3.74512904e+00]\n",
      " [-5.33956047e+01 -2.38285169e+01 -1.11533920e+01 -2.20130109e+00\n",
      "  -7.14293884e+00 -2.64748306e+01 -1.40758408e+01 -9.87097843e+00\n",
      "  -5.22649137e+00  8.58366086e+00 -7.42909453e+00  9.02500170e-01\n",
      "  -1.38823244e+00 -3.57683024e+00 -2.48067234e+00  1.45724937e+00\n",
      "   9.75543995e-01 -2.67145637e-01  2.71125285e-01  3.24918282e+00]\n",
      " [-5.34278311e+01 -2.39029205e+01 -1.10197404e+01 -2.29629772e+00\n",
      "  -6.79974564e+00 -2.61566981e+01 -1.38139983e+01 -8.96691834e+00\n",
      "  -3.08977076e+00  8.79336521e+00 -5.00878037e+00  1.29236482e+00\n",
      "  -1.67414772e+00 -2.84637066e+00 -1.33060004e+00  7.84900147e-01\n",
      "  -3.88057049e-01  8.10883788e-01  2.10200737e+00  2.13958108e+00]\n",
      " [-5.35066334e+01 -2.32429741e+01 -9.62793621e+00 -3.39645425e+00\n",
      "  -5.40161359e+00 -1.40259936e+01 -1.13175431e+01 -4.85081921e+00\n",
      "   2.74779572e-01 -2.39615638e+00 -2.64816320e+00  1.73245180e+01\n",
      "  -2.24391088e+01  6.55537193e+01 -1.58229638e+01  1.17130463e+01\n",
      "   1.07773202e+01 -2.33611579e+00 -7.62309580e+00  5.92082273e+00]]\n"
     ]
    }
   ],
   "source": [
    "print(good_mat[:5])"
   ]
  },
  {
   "cell_type": "markdown",
   "metadata": {},
   "source": [
    "We will use the cosine similarity to determine how close any two vectors are. The score will mean how close any two items are in terms of customers who have bought them. THe closer the two items are, the more likely the same group of customers will buy. We can use this as our recommendation to make the customers aware of the existence of these products. "
   ]
  },
  {
   "cell_type": "code",
   "execution_count": 57,
   "metadata": {},
   "outputs": [],
   "source": [
    "from sklearn.metrics.pairwise import cosine_similarity"
   ]
  },
  {
   "cell_type": "code",
   "execution_count": 61,
   "metadata": {},
   "outputs": [],
   "source": [
    "score = cosine_similarity(purchase_mat)"
   ]
  },
  {
   "cell_type": "markdown",
   "metadata": {},
   "source": [
    "I pick the top 6 items with the highest scores (the top one must be the original item itself by definition). Since the argsort gives the index of the item, not its StockID, I will need to convert it first. "
   ]
  },
  {
   "cell_type": "code",
   "execution_count": 86,
   "metadata": {},
   "outputs": [],
   "source": [
    "import numpy as np\n",
    "choices_arg = np.argsort(score[1000])[-6:]"
   ]
  },
  {
   "cell_type": "code",
   "execution_count": 87,
   "metadata": {},
   "outputs": [
    {
     "data": {
      "text/plain": [
       "[85089, 47598, 20699, 85202, '84931B', 21884]"
      ]
     },
     "execution_count": 87,
     "metadata": {},
     "output_type": "execute_result"
    }
   ],
   "source": [
    "choices_ID = [pivot_table.iloc[i].name for i in choices_arg]\n",
    "choices_ID"
   ]
  },
  {
   "cell_type": "markdown",
   "metadata": {},
   "source": [
    "These IDs are the StockID which has the closet relation to the original item (ID 21884). \n",
    "\n",
    "Next, we will need to build the Product table which contains the StockID and its description. This will form our catalogue of products. We will again use the groupby method to collect all purchasable items in the dataframe. "
   ]
  },
  {
   "cell_type": "code",
   "execution_count": 80,
   "metadata": {},
   "outputs": [
    {
     "data": {
      "text/plain": [
       "(3693, 3)"
      ]
     },
     "execution_count": 80,
     "metadata": {},
     "output_type": "execute_result"
    }
   ],
   "source": [
    "df_product = df.groupby(\"StockCode\").head(1)\n",
    "df_product = df_product.drop([\"Invoice\", \"Quantity\", \"InvoiceDate\", \"Customer ID\", \"Country\", \"Cost\"], axis=1)\n",
    "df_product.shape"
   ]
  },
  {
   "cell_type": "code",
   "execution_count": 88,
   "metadata": {},
   "outputs": [
    {
     "data": {
      "text/html": [
       "<div>\n",
       "<style scoped>\n",
       "    .dataframe tbody tr th:only-of-type {\n",
       "        vertical-align: middle;\n",
       "    }\n",
       "\n",
       "    .dataframe tbody tr th {\n",
       "        vertical-align: top;\n",
       "    }\n",
       "\n",
       "    .dataframe thead th {\n",
       "        text-align: right;\n",
       "    }\n",
       "</style>\n",
       "<table border=\"1\" class=\"dataframe\">\n",
       "  <thead>\n",
       "    <tr style=\"text-align: right;\">\n",
       "      <th></th>\n",
       "      <th>StockCode</th>\n",
       "      <th>Description</th>\n",
       "      <th>Price</th>\n",
       "    </tr>\n",
       "  </thead>\n",
       "  <tbody>\n",
       "    <tr>\n",
       "      <th>6382</th>\n",
       "      <td>85089</td>\n",
       "      <td>CANDY SPOT BUNNY</td>\n",
       "      <td>2.95</td>\n",
       "    </tr>\n",
       "    <tr>\n",
       "      <th>11274</th>\n",
       "      <td>47598</td>\n",
       "      <td>NEW ENGLAND EGG WARMER</td>\n",
       "      <td>0.55</td>\n",
       "    </tr>\n",
       "    <tr>\n",
       "      <th>12642</th>\n",
       "      <td>20699</td>\n",
       "      <td>MOUSEY LONG LEGS SOFT TOY</td>\n",
       "      <td>2.55</td>\n",
       "    </tr>\n",
       "    <tr>\n",
       "      <th>32501</th>\n",
       "      <td>21884</td>\n",
       "      <td>CAKES AND BOWS GIFT  TAPE</td>\n",
       "      <td>0.65</td>\n",
       "    </tr>\n",
       "    <tr>\n",
       "      <th>75676</th>\n",
       "      <td>85202</td>\n",
       "      <td>HANGING WOOD AND FELT HEART</td>\n",
       "      <td>0.42</td>\n",
       "    </tr>\n",
       "    <tr>\n",
       "      <th>77366</th>\n",
       "      <td>84931B</td>\n",
       "      <td>BLUE SCOTTIE DOG W FLOWER PATTERN</td>\n",
       "      <td>2.55</td>\n",
       "    </tr>\n",
       "  </tbody>\n",
       "</table>\n",
       "</div>"
      ],
      "text/plain": [
       "      StockCode                        Description  Price\n",
       "6382      85089                   CANDY SPOT BUNNY   2.95\n",
       "11274     47598             NEW ENGLAND EGG WARMER   0.55\n",
       "12642     20699          MOUSEY LONG LEGS SOFT TOY   2.55\n",
       "32501     21884          CAKES AND BOWS GIFT  TAPE   0.65\n",
       "75676     85202        HANGING WOOD AND FELT HEART   0.42\n",
       "77366    84931B  BLUE SCOTTIE DOG W FLOWER PATTERN   2.55"
      ]
     },
     "execution_count": 88,
     "metadata": {},
     "output_type": "execute_result"
    }
   ],
   "source": [
    "df_product[df_product[\"StockCode\"].isin(choices_ID)]"
   ]
  },
  {
   "cell_type": "markdown",
   "metadata": {},
   "source": [
    "This forms the recommendation we needed for this mini-project. We will need to recommend the following:\n",
    "\n",
    "1. ID 85089: Candy Spot Bunny\n",
    "2. ID 47598: New England Egg Warmer\n",
    "3. ID 20699: Mousey Long Legs Soft Toy\n",
    "4. ID 85202: Hanging Wood and Felt Heart\n",
    "5. ID 84931B: Blue Scottie Dog with Flower Pattern\n",
    "\n",
    "Further works can be done on this dataframe by classifying the items according to the description. And then when we use the recommendation system, we only pick those within the same category, this will help customer select their favourite choice without diverging their original shopping plan. \n",
    "\n",
    "Another direction will be to build the recommendation based on the shopping habit at different time. This is make sure the recommendation system will not naively introduce winter items in the summer, or vice versa. "
   ]
  },
  {
   "cell_type": "code",
   "execution_count": null,
   "metadata": {},
   "outputs": [],
   "source": []
  }
 ],
 "metadata": {
  "kernelspec": {
   "display_name": "Python 3",
   "language": "python",
   "name": "python3"
  },
  "language_info": {
   "codemirror_mode": {
    "name": "ipython",
    "version": 3
   },
   "file_extension": ".py",
   "mimetype": "text/x-python",
   "name": "python",
   "nbconvert_exporter": "python",
   "pygments_lexer": "ipython3",
   "version": "3.6.4"
  }
 },
 "nbformat": 4,
 "nbformat_minor": 2
}
