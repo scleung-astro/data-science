{
  "nbformat": 4,
  "nbformat_minor": 0,
  "metadata": {
    "colab": {
      "name": "DS_AmazonRate.ipynb",
      "provenance": [],
      "collapsed_sections": []
    },
    "kernelspec": {
      "name": "python3",
      "display_name": "Python 3"
    },
    "language_info": {
      "name": "python"
    }
  },
  "cells": [
    {
      "cell_type": "markdown",
      "metadata": {
        "id": "KT5erToaVoRQ"
      },
      "source": [
        "# Amazon Product Review Statistical Analysis\n",
        "\n",
        "This Jupyter notebook aims at understanding the connection of product and user rating for electronic products in Amazon. The data is taken from Kaggle. I will try to analyze the statistical features of the data and then proceed to build a simple recommendation system.\n",
        "\n",
        "Data obtained from\n",
        "\n",
        "https://www.kaggle.com/saurav9786/amazon-product-reviews\n",
        "\n",
        "Written by Shing Chi Leung at 19 March 2021"
      ]
    },
    {
      "cell_type": "code",
      "metadata": {
        "id": "qBdkHVn3SRVM"
      },
      "source": [
        "import pandas as pd\n",
        "import numpy as np\n",
        "from collections import defaultdict\n",
        "from sklearn.preprocessing import LabelEncoder\n",
        "from sklearn.decomposition import TruncatedSVD\n",
        "\n",
        "import seaborn"
      ],
      "execution_count": 31,
      "outputs": []
    },
    {
      "cell_type": "code",
      "metadata": {
        "colab": {
          "base_uri": "https://localhost:8080/"
        },
        "id": "vuTkPVihSSrL",
        "outputId": "6d4eab02-ae9d-48dd-87b5-e7d2da5a71a7"
      },
      "source": [
        "from google.colab import drive\n",
        "drive.mount(\"gdrive\")"
      ],
      "execution_count": 4,
      "outputs": [
        {
          "output_type": "stream",
          "text": [
            "Drive already mounted at gdrive; to attempt to forcibly remount, call drive.mount(\"gdrive\", force_remount=True).\n"
          ],
          "name": "stdout"
        }
      ]
    },
    {
      "cell_type": "code",
      "metadata": {
        "id": "zcfpEp-qSZlG"
      },
      "source": [
        "df = pd.read_csv(\"gdrive/MyDrive/Colab Notebooks/amazon_ratings.csv\", header=None)"
      ],
      "execution_count": 5,
      "outputs": []
    },
    {
      "cell_type": "code",
      "metadata": {
        "colab": {
          "base_uri": "https://localhost:8080/"
        },
        "id": "uiAryjZTSreM",
        "outputId": "c57513a1-1df5-42b4-9f40-62ac3567a72a"
      },
      "source": [
        "print(df.head(5))"
      ],
      "execution_count": 6,
      "outputs": [
        {
          "output_type": "stream",
          "text": [
            "                0          1  2           3\n",
            "0   AKM1MP6P0OYPR  132793040  5  1365811200\n",
            "1  A2CX7LUOHB2NDG  321732944  5  1341100800\n",
            "2  A2NWSAGRHCP8N5  439886341  1  1367193600\n",
            "3  A2WNBOD3WNDNKT  439886341  3  1374451200\n",
            "4  A1GI0U4ZRJA8WN  439886341  1  1334707200\n"
          ],
          "name": "stdout"
        }
      ]
    },
    {
      "cell_type": "markdown",
      "metadata": {
        "id": "yw_WS7uPFQg1"
      },
      "source": [
        "## Data Preprocessing\n",
        "\n",
        "From the given DataFrame, I need to rename the columns and remove the \"time\" column as it is irrelevant to my study. Then I encode the ID and Product columns by ordinal number for easier management. "
      ]
    },
    {
      "cell_type": "code",
      "metadata": {
        "colab": {
          "base_uri": "https://localhost:8080/"
        },
        "id": "lkxkh_LVTC9j",
        "outputId": "e067746b-1b76-4750-de51-54bbcd7347c6"
      },
      "source": [
        "df.rename(columns={0:\"id\",1:\"product\",2:\"rating\",3:\"time\"}, inplace=True)\n",
        "print(df.head(5))"
      ],
      "execution_count": 7,
      "outputs": [
        {
          "output_type": "stream",
          "text": [
            "               id    product  rating        time\n",
            "0   AKM1MP6P0OYPR  132793040       5  1365811200\n",
            "1  A2CX7LUOHB2NDG  321732944       5  1341100800\n",
            "2  A2NWSAGRHCP8N5  439886341       1  1367193600\n",
            "3  A2WNBOD3WNDNKT  439886341       3  1374451200\n",
            "4  A1GI0U4ZRJA8WN  439886341       1  1334707200\n"
          ],
          "name": "stdout"
        }
      ]
    },
    {
      "cell_type": "code",
      "metadata": {
        "colab": {
          "base_uri": "https://localhost:8080/"
        },
        "id": "C8ZYV2-eVHeD",
        "outputId": "16cdb421-1435-41d3-acb2-5caff0c015a7"
      },
      "source": [
        "df.drop(\"time\", axis=1, inplace=True)\n",
        "\n",
        "d = defaultdict(LabelEncoder)\n",
        "X = df.apply(lambda x:d[x.name].fit_transform(x))\n",
        "print(X)"
      ],
      "execution_count": 8,
      "outputs": [
        {
          "output_type": "stream",
          "text": [
            "             id  product  rating\n",
            "0        697756        9       4\n",
            "1        283194       85       4\n",
            "2        346430      100       0\n",
            "3        396487      100       2\n",
            "4         95545      100       0\n",
            "...         ...      ...     ...\n",
            "1048571   98698    61893       4\n",
            "1048572   70152    61893       4\n",
            "1048573  321616    61893       4\n",
            "1048574  327085    61893       3\n",
            "1048575   94280    61893       1\n",
            "\n",
            "[1048576 rows x 3 columns]\n"
          ],
          "name": "stdout"
        }
      ]
    },
    {
      "cell_type": "markdown",
      "metadata": {
        "id": "d6_N8eQBFxiE"
      },
      "source": [
        "### Statistics of the Review Data"
      ]
    },
    {
      "cell_type": "code",
      "metadata": {
        "colab": {
          "base_uri": "https://localhost:8080/",
          "height": 309
        },
        "id": "JazshBb-yZWU",
        "outputId": "0f062dc3-e64e-411d-c078-daa7063ebdc9"
      },
      "source": [
        "ax0 = X.groupby(\"rating\")[\"id\"].count().plot.bar()\n",
        "ax0.set_title(\"Rating distribution\")\n",
        "ax0.set_ylabel(\"Count\")"
      ],
      "execution_count": 41,
      "outputs": [
        {
          "output_type": "execute_result",
          "data": {
            "text/plain": [
              "Text(0, 0.5, 'Count')"
            ]
          },
          "metadata": {
            "tags": []
          },
          "execution_count": 41
        },
        {
          "output_type": "display_data",
          "data": {
            "image/png": "[encoded data removed]",
            "text/plain": [
              "<Figure size 432x288 with 1 Axes>"
            ]
          },
          "metadata": {
            "tags": [],
            "needs_background": "light"
          }
        }
      ]
    },
    {
      "cell_type": "markdown",
      "metadata": {
        "id": "p0Och0t6F1Gc"
      },
      "source": [
        "The majority of reviews are good as they get a ranking of 4 (i.e. 5 in the nominal unit)."
      ]
    },
    {
      "cell_type": "code",
      "metadata": {
        "colab": {
          "base_uri": "https://localhost:8080/"
        },
        "id": "ZKH85LFwXBEO",
        "outputId": "d8a39233-6355-44b2-a195-0a708f507d68"
      },
      "source": [
        "print(\"Number of unique ID: {}\".format(len(X[\"id\"].unique())))\n",
        "print(\"Number of unique product: {}\".format(len(X[\"product\"].unique())))"
      ],
      "execution_count": 8,
      "outputs": [
        {
          "output_type": "stream",
          "text": [
            "Number of unique ID: 786330\n",
            "Number of unique product: 61894\n"
          ],
          "name": "stdout"
        }
      ]
    },
    {
      "cell_type": "code",
      "metadata": {
        "colab": {
          "base_uri": "https://localhost:8080/"
        },
        "id": "VyYijYcea1uy",
        "outputId": "12082924-d044-45f9-86ac-da69d1600109"
      },
      "source": [
        "X_product_group = X.groupby(\"product\")\n",
        "\n",
        "product = []\n",
        "count = []\n",
        "for name, group in X_product_group:\n",
        "  product.append(name)\n",
        "  count.append(group.shape[0])\n",
        "\n",
        "X_product_cnt = pd.DataFrame(data={\"product\":product, \"count\":count})\n",
        "X_product_cnt.sort_values(by=\"count\", ascending=False, inplace=True)  \n",
        "print(X_product_cnt)"
      ],
      "execution_count": 9,
      "outputs": [
        {
          "output_type": "stream",
          "text": [
            "       product  count\n",
            "30276    30276   9487\n",
            "24439    24439   5345\n",
            "61285    61285   4903\n",
            "46504    46504   4275\n",
            "14183    14183   3523\n",
            "...        ...    ...\n",
            "14006    14006      1\n",
            "14008    14008      1\n",
            "14009    14009      1\n",
            "37568    37568      1\n",
            "31478    31478      1\n",
            "\n",
            "[61894 rows x 2 columns]\n"
          ],
          "name": "stdout"
        }
      ]
    },
    {
      "cell_type": "markdown",
      "metadata": {
        "id": "Kj2vmKPIGFYG"
      },
      "source": [
        "By grouping the data as above, we can see which products are the most popular and received the most reviews in the record. "
      ]
    },
    {
      "cell_type": "code",
      "metadata": {
        "colab": {
          "base_uri": "https://localhost:8080/",
          "height": 334
        },
        "id": "j1cdDzYZwo-F",
        "outputId": "90952099-a930-4c82-ba39-29f771947cc5"
      },
      "source": [
        "ax1 = X_product_cnt[\"count\"].head(20).plot.bar()\n",
        "ax1.set_title(\"User rating count\")\n",
        "ax1.set_xlabel(\"Product ID (transformed)\")\n",
        "ax1.set_ylabel(\"Number of ratings\")"
      ],
      "execution_count": 32,
      "outputs": [
        {
          "output_type": "execute_result",
          "data": {
            "text/plain": [
              "Text(0, 0.5, 'Number of ratings')"
            ]
          },
          "metadata": {
            "tags": []
          },
          "execution_count": 32
        },
        {
          "output_type": "display_data",
          "data": {
            "image/png": "[encoded data removed]",
            "text/plain": [
              "<Figure size 432x288 with 1 Axes>"
            ]
          },
          "metadata": {
            "tags": [],
            "needs_background": "light"
          }
        }
      ]
    },
    {
      "cell_type": "markdown",
      "metadata": {
        "id": "Ewb56NLrGNwO"
      },
      "source": [
        "We can also examine the distribution of ranting. We observe that a lot of product received unique rating (all 2, 3 or 4). And a smaller group receives a mixed rating. "
      ]
    },
    {
      "cell_type": "code",
      "metadata": {
        "colab": {
          "base_uri": "https://localhost:8080/",
          "height": 312
        },
        "id": "qXY9oboVccgk",
        "outputId": "6f2d4dbc-ff75-40b6-9cea-0561c67a6516"
      },
      "source": [
        "X_rating_mean = X.groupby(\"product\")[\"rating\"].mean()\n",
        "ax2 = X_rating_mean.plot.hist(by=\"rating\", bins=30)\n",
        "ax2.set_title(\"Histogram of User Ratings\")\n",
        "ax2.set_xlabel(\"Average rating\")"
      ],
      "execution_count": 10,
      "outputs": [
        {
          "output_type": "execute_result",
          "data": {
            "text/plain": [
              "Text(0.5, 0, 'Average rating')"
            ]
          },
          "metadata": {
            "tags": []
          },
          "execution_count": 10
        },
        {
          "output_type": "display_data",
          "data": {
            "image/png": "[encoded data removed]",
            "text/plain": [
              "<Figure size 432x288 with 1 Axes>"
            ]
          },
          "metadata": {
            "tags": [],
            "needs_background": "light"
          }
        }
      ]
    },
    {
      "cell_type": "markdown",
      "metadata": {
        "id": "ppy_VmfZGeI8"
      },
      "source": [
        "## Recommendation System\n",
        "\n",
        "Now we want to do the operation to the DataFrame by including only products with more than 500 reviews and an average rating of 3 or above. This will largely minimize the parameter space such that the later recommedation system becomes possible by a single machine."
      ]
    },
    {
      "cell_type": "code",
      "metadata": {
        "colab": {
          "base_uri": "https://localhost:8080/"
        },
        "id": "AnwZP1Vf0qAc",
        "outputId": "1459036e-74ac-423f-89d0-fcc4fe8cec04"
      },
      "source": [
        "X_product_stat = X_product_cnt.merge(X_rating_mean, on=\"product\", how=\"left\")\n",
        "\n",
        "X_product_stat = X_product_stat[X_product_stat[\"count\"] > 500] \n",
        "X_product_stat = X_product_stat[X_product_stat[\"rating\"] >= 3.0]\n",
        "print(X_product_stat.shape)\n",
        "\n",
        "# get the product list which receive at least 100 reviews\n",
        "X_highreview_list = X_product_stat[\"product\"].to_list()\n",
        "\n",
        "# Filter the primitive X DF\n",
        "X_short = X[X[\"product\"].isin(X_highreview_list)]\n",
        "print(X_short.shape)"
      ],
      "execution_count": 23,
      "outputs": [
        {
          "output_type": "stream",
          "text": [
            "(140, 3)\n",
            "(155497, 3)\n"
          ],
          "name": "stdout"
        }
      ]
    },
    {
      "cell_type": "markdown",
      "metadata": {
        "id": "eaGcVT6XGvm8"
      },
      "source": [
        "Now, we want to build the pivot table, which is a relation table of a given product and the comments by different users. "
      ]
    },
    {
      "cell_type": "code",
      "metadata": {
        "id": "4URpMugBgSew",
        "colab": {
          "base_uri": "https://localhost:8080/"
        },
        "outputId": "3617d58b-88e8-46a9-e70c-7798c970f0d6"
      },
      "source": [
        "review_matrix = X_short.pivot_table(values=\"rating\", index=\"id\", columns=\"product\")\n",
        "print(review_matrix.head())"
      ],
      "execution_count": 24,
      "outputs": [
        {
          "output_type": "stream",
          "text": [
            "product  310    2111   2248   2963   3268   ...  60512  60773  60887  61810  61889\n",
            "id                                          ...                                   \n",
            "4          NaN    NaN    NaN    NaN    NaN  ...    NaN    NaN    NaN    NaN    NaN\n",
            "8          NaN    NaN    NaN    NaN    NaN  ...    NaN    NaN    NaN    NaN    NaN\n",
            "16         NaN    NaN    NaN    NaN    NaN  ...    NaN    NaN    NaN    NaN    NaN\n",
            "19         NaN    NaN    NaN    NaN    NaN  ...    NaN    NaN    NaN    NaN    NaN\n",
            "34         NaN    NaN    NaN    NaN    NaN  ...    NaN    NaN    NaN    NaN    NaN\n",
            "\n",
            "[5 rows x 140 columns]\n"
          ],
          "name": "stdout"
        }
      ]
    },
    {
      "cell_type": "code",
      "metadata": {
        "id": "uTHY3s6EhOwm"
      },
      "source": [
        "review_matrix = review_matrix.fillna(0).T"
      ],
      "execution_count": 27,
      "outputs": []
    },
    {
      "cell_type": "markdown",
      "metadata": {
        "id": "ckNXxJOxG_pY"
      },
      "source": [
        "We use TruncatedSVD instead of PCA because there is no centroid of the data. All items are naturally equal. We use TruncatedSVD to find the reduced dimension of these products by a lower dimensional vector (10 dimension)."
      ]
    },
    {
      "cell_type": "code",
      "metadata": {
        "id": "ogXiUYD6hVOV",
        "colab": {
          "base_uri": "https://localhost:8080/"
        },
        "outputId": "36a95954-8ef7-4b6f-8855-c3388611cd86"
      },
      "source": [
        "SVD = TruncatedSVD(n_components=10, n_iter=10)\n",
        "decomposed_matrix = SVD.fit_transform(review_matrix)\n",
        "decomposed_matrix.shape"
      ],
      "execution_count": 28,
      "outputs": [
        {
          "output_type": "execute_result",
          "data": {
            "text/plain": [
              "(140, 10)"
            ]
          },
          "metadata": {
            "tags": []
          },
          "execution_count": 28
        }
      ]
    },
    {
      "cell_type": "code",
      "metadata": {
        "colab": {
          "base_uri": "https://localhost:8080/"
        },
        "id": "qlHXnpMz8JsX",
        "outputId": "951305c9-6477-4712-8cfa-923c65c3e285"
      },
      "source": [
        "correlation_matrix = np.corrcoef(decomposed_matrix)\n",
        "print(correlation_matrix.shape)"
      ],
      "execution_count": 39,
      "outputs": [
        {
          "output_type": "stream",
          "text": [
            "(140, 140)\n"
          ],
          "name": "stdout"
        }
      ]
    },
    {
      "cell_type": "markdown",
      "metadata": {
        "id": "r_m-QnWxHSwG"
      },
      "source": [
        "### Real recommendation\n",
        "\n",
        "Now we can use the above framework to predict the closest items which are popular and are avabilable to be promoted. But we need to do a mapping from the correlation matrix to the encoded ID. "
      ]
    },
    {
      "cell_type": "code",
      "metadata": {
        "colab": {
          "base_uri": "https://localhost:8080/"
        },
        "id": "LEV_PhJ79-cs",
        "outputId": "6e358759-c736-4c61-c08f-56d5a691c832"
      },
      "source": [
        "# get index \n",
        "\n",
        "index_list = list(review_matrix.index)\n",
        "\n",
        "# query\n",
        "query_id = 30276\n",
        "query_idx = index_list.index(query_id)\n",
        "print(\"ID {} cooresponds to {}\".format(query_id, query_idx))"
      ],
      "execution_count": 34,
      "outputs": [
        {
          "output_type": "stream",
          "text": [
            "ID 30276 cooresponds to 63\n"
          ],
          "name": "stdout"
        }
      ]
    },
    {
      "cell_type": "code",
      "metadata": {
        "colab": {
          "base_uri": "https://localhost:8080/"
        },
        "id": "xiviemR0-qVm",
        "outputId": "0dda39ab-e65b-4166-d89b-0fba14cfaaf9"
      },
      "source": [
        "print(\"Recommendation in the codified \")\n",
        "print(\"Selected Item {}\".format(query_id))\n",
        "print(\"Item, Correlation\")\n",
        "for i in range(correlation_matrix[query_idx].shape[0]):\n",
        "  if i == query_idx: continue\n",
        "  if correlation_matrix[query_idx][i] > 0.6:\n",
        "    print(\"{}: {:.2}\".format(index_list[i], correlation_matrix[query_idx][i]))"
      ],
      "execution_count": 44,
      "outputs": [
        {
          "output_type": "stream",
          "text": [
            "Recommendation in the codified \n",
            "Selected Item 30276\n",
            "Item, Correlation\n",
            "4665: 0.61\n",
            "10019: 0.84\n",
            "30460: 0.98\n",
            "31097: 0.8\n",
            "36666: 0.88\n",
            "38724: 0.67\n",
            "43220: 0.61\n",
            "52283: 0.76\n",
            "60887: 0.71\n"
          ],
          "name": "stdout"
        }
      ]
    },
    {
      "cell_type": "markdown",
      "metadata": {
        "id": "yXjBfzmQHfwc"
      },
      "source": [
        "The ID is encoded during early processing. The final step is to convert it back to the primitive product ID so that we can connect to the real product. "
      ]
    },
    {
      "cell_type": "code",
      "metadata": {
        "colab": {
          "base_uri": "https://localhost:8080/"
        },
        "id": "9eEZ8b6BAG0A",
        "outputId": "d1142514-eb2a-423d-c8e4-f90b977d5e65"
      },
      "source": [
        "print(\"Representation in the original ID space\")\n",
        "print(\"Selected Item {}\".format(d[\"id\"].inverse_transform([query_id])))\n",
        "print(\"Product ID, Correlation\")\n",
        "for i in range(correlation_matrix[query_idx].shape[0]):\n",
        "  if i == query_idx: continue\n",
        "  if correlation_matrix[query_idx][i] > 0.6:\n",
        "    print(\"{}: {:.2}\".format(*d[\"id\"].inverse_transform([index_list[i]]), correlation_matrix[query_idx][i]))"
      ],
      "execution_count": 49,
      "outputs": [
        {
          "output_type": "stream",
          "text": [
            "Representation in the original ID space\n",
            "Selected Item ['A156OB1J0HQUQW']\n",
            "Product ID, Correlation\n",
            "A10QTRDCSTU1GQ: 0.61\n",
            "A11O5PS9MKOGQ9: 0.84\n",
            "A157VR83HRR42S: 0.98\n",
            "A15BTRENLM1H21: 0.8\n",
            "A16ANZRC04LAT5: 0.88\n",
            "A16N6H1RGP6FKP: 0.67\n",
            "A17EYHFW9EHZHB: 0.61\n",
            "A18ZQZK0XINFYR: 0.76\n",
            "A1AGZ9MHPHBN55: 0.71\n"
          ],
          "name": "stdout"
        }
      ]
    },
    {
      "cell_type": "code",
      "metadata": {
        "id": "q8WkXBiXE5AX"
      },
      "source": [
        ""
      ],
      "execution_count": null,
      "outputs": []
    }
  ]
}