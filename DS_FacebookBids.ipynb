{
  "nbformat": 4,
  "nbformat_minor": 0,
  "metadata": {
    "colab": {
      "name": "DS_FacebookBids.ipynb",
      "provenance": [],
      "collapsed_sections": []
    },
    "kernelspec": {
      "name": "python3",
      "display_name": "Python 3"
    }
  },
  "cells": [
    {
      "cell_type": "markdown",
      "metadata": {
        "id": "QStlbHpuVi1I"
      },
      "source": [
        "# Analysis of Facebook bid Data\n",
        "\n",
        "This is a Python Project for analyzing the facebook data for their bidding site. In this Jupyter notebook I will examine the distribution the bidder, id and their url to examine if there correlation inside the data.\n",
        "\n",
        "Data taken from https://www.kaggle.com/rafanovello/facebook-recruiting-bids \n",
        "\n",
        "Written by Shing Chi Leung at 14 March 2021"
      ]
    },
    {
      "cell_type": "code",
      "metadata": {
        "id": "RjKI67G0Vdv0"
      },
      "source": [
        "import pandas as pd\n",
        "import numpy as np\n",
        "\n",
        "# for classification\n",
        "from collections import defaultdict\n",
        "from sklearn.preprocessing import LabelEncoder\n",
        "from sklearn.model_selection import train_test_split\n",
        "from sklearn.ensemble import RandomForestClassifier\n",
        "from sklearn.model_selection import cross_val_score\n",
        "from sklearn.metrics import confusion_matrix, classification_report\n",
        "\n",
        "import collections\n",
        "\n",
        "import matplotlib.pyplot as plt"
      ],
      "execution_count": 29,
      "outputs": []
    },
    {
      "cell_type": "code",
      "metadata": {
        "colab": {
          "base_uri": "https://localhost:8080/"
        },
        "id": "uaerEKxWegPO",
        "outputId": "f10b5717-f297-4aec-f0cb-31dfcd6bef48"
      },
      "source": [
        "from google.colab import drive\n",
        "drive.mount(\"gdrive\")"
      ],
      "execution_count": 2,
      "outputs": [
        {
          "output_type": "stream",
          "text": [
            "Mounted at gdrive\n"
          ],
          "name": "stdout"
        }
      ]
    },
    {
      "cell_type": "code",
      "metadata": {
        "colab": {
          "base_uri": "https://localhost:8080/"
        },
        "id": "6SS8tWeQV_Gj",
        "outputId": "22aa8a86-751e-4694-9b00-d8dc49eb513b"
      },
      "source": [
        "df = pd.read_csv(\"gdrive/MyDrive/Colab Notebooks/facebook_bids.csv\")\n",
        "\n",
        "print(\"Header files = {}\".format(df.head(5)))\n",
        "print(\"Available columns = {}\".format(df.columns))"
      ],
      "execution_count": 3,
      "outputs": [
        {
          "output_type": "stream",
          "text": [
            "Header files =    bid_id  ...              url\n",
            "0       0  ...  vasstdc27m7nks3\n",
            "1       1  ...  jmqlhflrzwuay9c\n",
            "2       2  ...  vasstdc27m7nks3\n",
            "3       3  ...  vasstdc27m7nks3\n",
            "4       4  ...  vasstdc27m7nks3\n",
            "\n",
            "[5 rows x 9 columns]\n",
            "Available columns = Index(['bid_id', 'bidder_id', 'auction', 'merchandise', 'device', 'time',\n",
            "       'country', 'ip', 'url'],\n",
            "      dtype='object')\n"
          ],
          "name": "stdout"
        }
      ]
    },
    {
      "cell_type": "markdown",
      "metadata": {
        "id": "Sy3wwQg5NLlo"
      },
      "source": [
        "## Global Analysis of Data"
      ]
    },
    {
      "cell_type": "code",
      "metadata": {
        "colab": {
          "base_uri": "https://localhost:8080/"
        },
        "id": "zkiL1AToefA_",
        "outputId": "7297b251-4461-4f0b-8e6c-615d46c21d4a"
      },
      "source": [
        "country_list = df.country.unique()\n",
        "country_size = []\n",
        "for country in country_list:\n",
        "  country_size.append((country, len(df[df[\"country\"] == country])))\n",
        "\n",
        "df_country_rank = pd.DataFrame(country_size, columns=[\"country\", \"users\"])\n",
        "print(df_country_rank)"
      ],
      "execution_count": 4,
      "outputs": [
        {
          "output_type": "stream",
          "text": [
            "    country   users\n",
            "0        us   48285\n",
            "1        in  278116\n",
            "2        py    1479\n",
            "3        ru   18153\n",
            "4        th   26285\n",
            "..      ...     ...\n",
            "186      tl       2\n",
            "187      pg       3\n",
            "188      pf       1\n",
            "189      vc       1\n",
            "190      zz       1\n",
            "\n",
            "[191 rows x 2 columns]\n"
          ],
          "name": "stdout"
        }
      ]
    },
    {
      "cell_type": "code",
      "metadata": {
        "colab": {
          "base_uri": "https://localhost:8080/",
          "height": 318
        },
        "id": "yfkuyK75qKjo",
        "outputId": "f5204a62-b7ff-459b-fcdf-5bcbe3f597fc"
      },
      "source": [
        "df_country_rank.sort_values(\"users\", inplace=True, ascending=False)\n",
        "ax = df_country_rank.head(20).plot.bar(\"country\", \"users\")\n",
        "ax.set_ylabel(\"User count\")\n",
        "ax.set_title(\"Number of users per country\")"
      ],
      "execution_count": 5,
      "outputs": [
        {
          "output_type": "execute_result",
          "data": {
            "text/plain": [
              "Text(0.5, 1.0, 'Number of users per country')"
            ]
          },
          "metadata": {
            "tags": []
          },
          "execution_count": 5
        },
        {
          "output_type": "display_data",
          "data": {
            "image/png": "[encoded data removed]",
            "text/plain": [
              "<Figure size 432x288 with 1 Axes>"
            ]
          },
          "metadata": {
            "tags": [],
            "needs_background": "light"
          }
        }
      ]
    },
    {
      "cell_type": "markdown",
      "metadata": {
        "id": "n2Tov_s81vmc"
      },
      "source": [
        "It shows that India has a very active use of Facebook bid. Its bidding count is 5 tmes more than most other countries. Then we take a look at the training data."
      ]
    },
    {
      "cell_type": "markdown",
      "metadata": {
        "id": "cs6go-QUNPa_"
      },
      "source": [
        "## Training and Test Data for Robotic Transaction\n",
        "\n",
        "### Data Preparation"
      ]
    },
    {
      "cell_type": "code",
      "metadata": {
        "colab": {
          "base_uri": "https://localhost:8080/"
        },
        "id": "3M70Q86jyLlr",
        "outputId": "ca692103-601e-4d22-a09e-e99a7a66a5da"
      },
      "source": [
        "df_train = pd.read_csv(\"gdrive/MyDrive/Colab Notebooks/facebook_train.csv\")\n",
        "print(\"First few lines: {}\".format(df_train))\n",
        "print(\"Columnes include {}\".format(df_train.columns))"
      ],
      "execution_count": 6,
      "outputs": [
        {
          "output_type": "stream",
          "text": [
            "First few lines:                                   bidder_id  ... outcome\n",
            "0     91a3c57b13234af24875c56fb7e2b2f4rb56a  ...     0.0\n",
            "1     624f258b49e77713fc34034560f93fb3hu3jo  ...     0.0\n",
            "2     1c5f4fc669099bfbfac515cd26997bd12ruaj  ...     0.0\n",
            "3     4bee9aba2abda51bf43d639013d6efe12iycd  ...     0.0\n",
            "4     4ab12bc61c82ddd9c2d65e60555808acqgos1  ...     0.0\n",
            "...                                     ...  ...     ...\n",
            "2008  369515b3af4f8ca582f90271d30b14b6r52aw  ...     0.0\n",
            "2009  f939c17ffc7c39ac9b35b69e5e75179fv9pe2  ...     0.0\n",
            "2010  c806dbb2decba0ed3c4ff5e2e60a74c2wjvbl  ...     0.0\n",
            "2011  0381a69b7a061e9ace2798fd48f1f537mgq57  ...     0.0\n",
            "2012  84a769adc98498f52debfe57b93a0789556f4  ...     0.0\n",
            "\n",
            "[2013 rows x 4 columns]\n",
            "Columnes include Index(['bidder_id', 'payment_account', 'address', 'outcome'], dtype='object')\n"
          ],
          "name": "stdout"
        }
      ]
    },
    {
      "cell_type": "markdown",
      "metadata": {
        "id": "GkCP0A6N8qis"
      },
      "source": [
        "Then I need to merge the training set with the database to form the informed database for the training. "
      ]
    },
    {
      "cell_type": "code",
      "metadata": {
        "id": "UewuK5XW4ybY"
      },
      "source": [
        "df_merge_train = df.merge(df_train, how=\"left\", on=\"bidder_id\")\n",
        "df_merge_train.head(5)\n",
        "\n",
        "df_merge_train.dropna(subset=[\"outcome\"], inplace=True)\n",
        "df_merge_train.dropna(subset=[\"country\"], inplace=True)"
      ],
      "execution_count": 7,
      "outputs": []
    },
    {
      "cell_type": "code",
      "metadata": {
        "colab": {
          "base_uri": "https://localhost:8080/",
          "height": 318
        },
        "id": "ebVYke7b5dRK",
        "outputId": "214fe16f-1154-4fb7-b563-30833cd4460d"
      },
      "source": [
        "df_merge_train.head(5)\n",
        "\n",
        "df_ratio = df_merge_train.groupby(\"outcome\")[\"bid_id\"].count()\n",
        "ax2 = df_ratio.plot.bar()\n",
        "\n",
        "ax2.set_title(\"Number of user detected as Robots\")\n",
        "ax2.set_ylabel(\"count\")\n"
      ],
      "execution_count": 8,
      "outputs": [
        {
          "output_type": "execute_result",
          "data": {
            "text/plain": [
              "Text(0, 0.5, 'count')"
            ]
          },
          "metadata": {
            "tags": []
          },
          "execution_count": 8
        },
        {
          "output_type": "display_data",
          "data": {
            "image/png": "[encoded data removed]",
            "text/plain": [
              "<Figure size 432x288 with 1 Axes>"
            ]
          },
          "metadata": {
            "tags": [],
            "needs_background": "light"
          }
        }
      ]
    },
    {
      "cell_type": "markdown",
      "metadata": {
        "id": "p0-_cNMnB2Qb"
      },
      "source": [
        "Among all the 350k of transaction record, about 10% is classified as robots. \n",
        "Then we filter the training database for only useful variables. We choose the variables which reflect their transaction pattern. And we also relabel the data so that it can be used by the classification algorithm."
      ]
    },
    {
      "cell_type": "code",
      "metadata": {
        "colab": {
          "base_uri": "https://localhost:8080/",
          "height": 195
        },
        "id": "2NsuKa7f6L9B",
        "outputId": "04ce708c-11bb-4f43-8449-abf3e912693d"
      },
      "source": [
        "X = df_merge_train[[\"bidder_id\", \"address\", \"payment_account\"]]\n",
        "\n",
        "d = defaultdict(LabelEncoder)\n",
        "X = X.apply(lambda x : d[x.name].fit_transform(x))\n",
        "X.head()"
      ],
      "execution_count": 9,
      "outputs": [
        {
          "output_type": "execute_result",
          "data": {
            "text/html": [
              "<div>\n",
              "<style scoped>\n",
              "    .dataframe tbody tr th:only-of-type {\n",
              "        vertical-align: middle;\n",
              "    }\n",
              "\n",
              "    .dataframe tbody tr th {\n",
              "        vertical-align: top;\n",
              "    }\n",
              "\n",
              "    .dataframe thead th {\n",
              "        text-align: right;\n",
              "    }\n",
              "</style>\n",
              "<table border=\"1\" class=\"dataframe\">\n",
              "  <thead>\n",
              "    <tr style=\"text-align: right;\">\n",
              "      <th></th>\n",
              "      <th>bidder_id</th>\n",
              "      <th>address</th>\n",
              "      <th>payment_account</th>\n",
              "    </tr>\n",
              "  </thead>\n",
              "  <tbody>\n",
              "    <tr>\n",
              "      <th>1</th>\n",
              "      <td>324</td>\n",
              "      <td>177</td>\n",
              "      <td>573</td>\n",
              "    </tr>\n",
              "    <tr>\n",
              "      <th>5</th>\n",
              "      <td>682</td>\n",
              "      <td>201</td>\n",
              "      <td>71</td>\n",
              "    </tr>\n",
              "    <tr>\n",
              "      <th>9</th>\n",
              "      <td>504</td>\n",
              "      <td>465</td>\n",
              "      <td>269</td>\n",
              "    </tr>\n",
              "    <tr>\n",
              "      <th>10</th>\n",
              "      <td>504</td>\n",
              "      <td>465</td>\n",
              "      <td>269</td>\n",
              "    </tr>\n",
              "    <tr>\n",
              "      <th>13</th>\n",
              "      <td>387</td>\n",
              "      <td>746</td>\n",
              "      <td>696</td>\n",
              "    </tr>\n",
              "  </tbody>\n",
              "</table>\n",
              "</div>"
            ],
            "text/plain": [
              "    bidder_id  address  payment_account\n",
              "1         324      177              573\n",
              "5         682      201               71\n",
              "9         504      465              269\n",
              "10        504      465              269\n",
              "13        387      746              696"
            ]
          },
          "metadata": {
            "tags": []
          },
          "execution_count": 9
        }
      ]
    },
    {
      "cell_type": "markdown",
      "metadata": {
        "id": "KARNLZ6FJlRj"
      },
      "source": [
        "Then we want to extract the independent and dependent variables in the test."
      ]
    },
    {
      "cell_type": "code",
      "metadata": {
        "colab": {
          "base_uri": "https://localhost:8080/"
        },
        "id": "jcJuC0q6Bcon",
        "outputId": "8b7f118a-089c-43e1-b3ea-c0d646d8c546"
      },
      "source": [
        "y = df_merge_train[\"outcome\"].to_numpy()\n",
        "print(\"The label array has a shape: {}\".format(y.shape))"
      ],
      "execution_count": 10,
      "outputs": [
        {
          "output_type": "stream",
          "text": [
            "The label array has a shape: (408691,)\n"
          ],
          "name": "stdout"
        }
      ]
    },
    {
      "cell_type": "markdown",
      "metadata": {
        "id": "FDVUGpPIDqFQ"
      },
      "source": [
        "Then we split the data for training and testing the models."
      ]
    },
    {
      "cell_type": "code",
      "metadata": {
        "id": "ZSOisb3ABuyt"
      },
      "source": [
        "X_train, X_test, y_train, y_test = train_test_split(X, y, test_size=0.2)"
      ],
      "execution_count": 11,
      "outputs": []
    },
    {
      "cell_type": "markdown",
      "metadata": {
        "id": "BBW_EVMZNneQ"
      },
      "source": [
        "### Training the Random Forest Classifier"
      ]
    },
    {
      "cell_type": "code",
      "metadata": {
        "id": "5mFCjXijH6cg",
        "colab": {
          "base_uri": "https://localhost:8080/"
        },
        "outputId": "7a0336b1-2781-4094-8d29-1ee3c4ab0108"
      },
      "source": [
        "rfc = RandomForestClassifier(n_estimators=200)\n",
        "rfc.fit(X_train, y_train)"
      ],
      "execution_count": 13,
      "outputs": [
        {
          "output_type": "execute_result",
          "data": {
            "text/plain": [
              "RandomForestClassifier(bootstrap=True, ccp_alpha=0.0, class_weight=None,\n",
              "                       criterion='gini', max_depth=None, max_features='auto',\n",
              "                       max_leaf_nodes=None, max_samples=None,\n",
              "                       min_impurity_decrease=0.0, min_impurity_split=None,\n",
              "                       min_samples_leaf=1, min_samples_split=2,\n",
              "                       min_weight_fraction_leaf=0.0, n_estimators=200,\n",
              "                       n_jobs=None, oob_score=False, random_state=None,\n",
              "                       verbose=0, warm_start=False)"
            ]
          },
          "metadata": {
            "tags": []
          },
          "execution_count": 13
        }
      ]
    },
    {
      "cell_type": "code",
      "metadata": {
        "colab": {
          "base_uri": "https://localhost:8080/",
          "height": 302
        },
        "id": "SyTieBItIMpB",
        "outputId": "dfd65fa2-601e-41bb-9068-0c13d4ca9b68"
      },
      "source": [
        "print(\"The parameter importance are {}\".format(rfc.feature_importances_))\n",
        "fig3, ax3 = plt.subplots(nrows=1, ncols=1)\n",
        "ax3.bar(range(3), rfc.feature_importances_)\n",
        "ax3.set_title(\"Relative importance of user identifiable model.\")\n",
        "\n",
        "for i in range(3):\n",
        "  ax3.annotate(X.columns[i], (i-0.25, rfc.feature_importances_[i] + 0.01))\n",
        "\n",
        "ax3.set_ylabel(\"Importance\")\n",
        "ax3.set_xlabel(\"\")\n",
        "ax3.set_ylim(0, 0.4)"
      ],
      "execution_count": null,
      "outputs": [
        {
          "output_type": "stream",
          "text": [
            "[0.28339206 0.37826906 0.33833888]\n"
          ],
          "name": "stdout"
        },
        {
          "output_type": "execute_result",
          "data": {
            "text/plain": [
              "(0.0, 0.4)"
            ]
          },
          "metadata": {
            "tags": []
          },
          "execution_count": 91
        },
        {
          "output_type": "display_data",
          "data": {
            "image/png": "[encoded data removed]",
            "text/plain": [
              "<Figure size 432x288 with 1 Axes>"
            ]
          },
          "metadata": {
            "tags": [],
            "needs_background": "light"
          }
        }
      ]
    },
    {
      "cell_type": "markdown",
      "metadata": {
        "id": "uIkxnuwcItun"
      },
      "source": [
        "It suggests that the IP address will be the most identifiable feature for the bidding robot. Now we can proceed to test the model.\n",
        "\n",
        "### Validating the Trained Classifier"
      ]
    },
    {
      "cell_type": "code",
      "metadata": {
        "id": "p3EIJ56MI8-X"
      },
      "source": [
        "y_pred = rfc.predict(X_test)\n",
        "\n"
      ],
      "execution_count": 16,
      "outputs": []
    },
    {
      "cell_type": "code",
      "metadata": {
        "colab": {
          "base_uri": "https://localhost:8080/"
        },
        "id": "n4MsidsRL7ey",
        "outputId": "273a748b-2d0d-4b84-d79a-6b800bf16549"
      },
      "source": [
        "conf_mat = confusion_matrix(y_test, y_pred)\n",
        "print(\"Confusion matrix: \\n{}\".format(conf_mat))"
      ],
      "execution_count": 22,
      "outputs": [
        {
          "output_type": "stream",
          "text": [
            "Confusion matrix: \n",
            "[[69283     0]\n",
            " [    0 12456]]\n"
          ],
          "name": "stdout"
        }
      ]
    },
    {
      "cell_type": "code",
      "metadata": {
        "colab": {
          "base_uri": "https://localhost:8080/"
        },
        "id": "RX16D7KYMbO7",
        "outputId": "01b53641-98a7-45fd-efb6-840d115b1359"
      },
      "source": [
        "print(classification_report(y_test, y_pred))"
      ],
      "execution_count": 25,
      "outputs": [
        {
          "output_type": "stream",
          "text": [
            "              precision    recall  f1-score   support\n",
            "\n",
            "         0.0       1.00      1.00      1.00     69283\n",
            "         1.0       1.00      1.00      1.00     12456\n",
            "\n",
            "    accuracy                           1.00     81739\n",
            "   macro avg       1.00      1.00      1.00     81739\n",
            "weighted avg       1.00      1.00      1.00     81739\n",
            "\n"
          ],
          "name": "stdout"
        }
      ]
    },
    {
      "cell_type": "markdown",
      "metadata": {
        "id": "x5IZRp-bNA7s"
      },
      "source": [
        "This suggests that the identification based on these parameters can easily spot out the robotic bidding and transaction on Facebook Bids. \n",
        "\n",
        "### Checking the Geographic Distribution of Robotic Transaction"
      ]
    },
    {
      "cell_type": "code",
      "metadata": {
        "colab": {
          "base_uri": "https://localhost:8080/"
        },
        "id": "Wcunie8wM66S",
        "outputId": "408f1dfb-6a24-47a6-c2d4-758c308d6955"
      },
      "source": [
        "df_robots = df_merge_train[df_merge_train[\"outcome\"] == 1][\"country\"]\n",
        "print(df_robots)"
      ],
      "execution_count": 27,
      "outputs": [
        {
          "output_type": "stream",
          "text": [
            "20         hr\n",
            "36         us\n",
            "47         in\n",
            "55         vn\n",
            "107        uk\n",
            "           ..\n",
            "1048510    se\n",
            "1048515    ru\n",
            "1048526    se\n",
            "1048557    in\n",
            "1048572    ca\n",
            "Name: country, Length: 61603, dtype: object\n"
          ],
          "name": "stdout"
        }
      ]
    },
    {
      "cell_type": "code",
      "metadata": {
        "id": "l1XezOGpORfq"
      },
      "source": [
        "country_counter = pd.Series(collections.Counter(df_robots.to_numpy()))"
      ],
      "execution_count": 35,
      "outputs": []
    },
    {
      "cell_type": "code",
      "metadata": {
        "colab": {
          "base_uri": "https://localhost:8080/",
          "height": 318
        },
        "id": "SvjUTLY0Pu9r",
        "outputId": "9aa73255-7d07-466d-f0a3-ba8ae1076c72"
      },
      "source": [
        "country_counter.sort_values(inplace=True, ascending=False)\n",
        "ax4 = country_counter[country_counter > 1000].plot.bar()\n",
        "ax4.set_title(\"Number of Robots in Facebook Bids\")\n",
        "ax4.set_xlabel(\"Location\")\n",
        "ax4.set_ylabel(\"Number\")"
      ],
      "execution_count": 40,
      "outputs": [
        {
          "output_type": "execute_result",
          "data": {
            "text/plain": [
              "Text(0, 0.5, 'Number')"
            ]
          },
          "metadata": {
            "tags": []
          },
          "execution_count": 40
        },
        {
          "output_type": "display_data",
          "data": {
            "image/png": "[encoded data removed]",
            "text/plain": [
              "<Figure size 432x288 with 1 Axes>"
            ]
          },
          "metadata": {
            "tags": [],
            "needs_background": "light"
          }
        }
      ]
    },
    {
      "cell_type": "markdown",
      "metadata": {
        "id": "uAd9aam5RWSG"
      },
      "source": [
        "Again this shows that the suspicious transaction in india is also dramatically higher, which is about five times to other countries in the list. And it contributes to about 5 - 10% of the overall transactions. "
      ]
    },
    {
      "cell_type": "code",
      "metadata": {
        "id": "8QIp_7Y8Qf1w"
      },
      "source": [
        ""
      ],
      "execution_count": null,
      "outputs": []
    }
  ]
}